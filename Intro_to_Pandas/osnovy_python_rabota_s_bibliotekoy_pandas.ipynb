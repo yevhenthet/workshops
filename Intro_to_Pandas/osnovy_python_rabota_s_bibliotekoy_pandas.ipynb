{
 "cells": [
  {
   "cell_type": "markdown",
   "metadata": {},
   "source": [
    "# Подключаем библиотеки"
   ]
  },
  {
   "cell_type": "code",
   "execution_count": null,
   "metadata": {},
   "outputs": [],
   "source": [
    "import pandas as pd             # библиотека для анализа данных\n",
    "import sqlite3                  # подключение к базе данных SQLite3        \n",
    "import matplotlib.pyplot as plt # построение графиков\n",
    "\n",
    "%matplotlib inline     "
   ]
  },
  {
   "cell_type": "markdown",
   "metadata": {},
   "source": [
    "# Структуры данных в Pandas\n",
    "---\n",
    "## Series"
   ]
  },
  {
   "cell_type": "code",
   "execution_count": null,
   "metadata": {},
   "outputs": [],
   "source": [
    "# создаём серию\n",
    "simple_list = ['a', 'b', 'c', 'd']\n",
    "simple_ser = pd.Series(simple_list)\n",
    "\n",
    "simple_ser"
   ]
  },
  {
   "cell_type": "code",
   "execution_count": null,
   "metadata": {},
   "outputs": [],
   "source": [
    "# обращение к элементам серии\n",
    "simple_list[1:3]"
   ]
  },
  {
   "cell_type": "code",
   "execution_count": null,
   "metadata": {},
   "outputs": [],
   "source": [
    "# арифметические операции с сериями\n",
    "num_series_1 = pd.Series([1,4,6,7,8])\n",
    "num_series_2 = pd.Series([10,20,30,40,55])\n",
    "\n",
    "num_series_1 + num_series_2"
   ]
  },
  {
   "cell_type": "code",
   "execution_count": null,
   "metadata": {},
   "outputs": [],
   "source": [
    "# выравнивание по индексам\n",
    "num_series_1 = pd.Series([1,4,6,7,8], index = ['a','b','c','d','e'])\n",
    "num_series_2 = pd.Series([10,20,30,40,55], index = ['e','d','c','b','a'])\n",
    "\n",
    "num_series_1 + num_series_2"
   ]
  },
  {
   "cell_type": "markdown",
   "metadata": {},
   "source": [
    "## DataFrame"
   ]
  },
  {
   "cell_type": "code",
   "execution_count": null,
   "metadata": {},
   "outputs": [],
   "source": [
    "# создаём таблицу из словара\n",
    "data_dict = {'name': ['Alexey', 'Andrey', 'Sergey', 'Denis', 'Anna', 'Kirill'],\n",
    "             'age': [36, 31, 23, 19, 25, 42],\n",
    "             'department': ['analytics', 'programmers', 'sales', 'sales', 'accountant', 'analytics']}\n",
    "\n",
    "data = pd.DataFrame(data_dict)\n",
    "\n",
    "data"
   ]
  },
  {
   "cell_type": "code",
   "execution_count": null,
   "metadata": {},
   "outputs": [],
   "source": [
    "# по сути таблица это набор серий\n",
    "sr1 = pd.Series(['a', 'b', 'c', 'a', 'c'])\n",
    "sr2 = pd.Series([10, 13, 9, 5, 15])\n",
    "\n",
    "df = pd.DataFrame({'mark': sr1, \n",
    "                   'val': sr2})\n",
    "\n",
    "df"
   ]
  },
  {
   "cell_type": "code",
   "execution_count": null,
   "metadata": {},
   "outputs": [],
   "source": [
    "# отобрать несколько столбцов\n",
    "data[['name', 'department']]"
   ]
  },
  {
   "cell_type": "code",
   "execution_count": null,
   "metadata": {},
   "outputs": [],
   "source": [
    "# отобрать строки, сотрудники старше 30 лет\n",
    "data[ data.age > 30 ]"
   ]
  },
  {
   "cell_type": "code",
   "execution_count": null,
   "metadata": {},
   "outputs": [],
   "source": [
    "# отбираем данные по нескольким условиям\n",
    "data[ (data.age < 40) & ( data.department == 'analytics' ) ]"
   ]
  },
  {
   "cell_type": "markdown",
   "metadata": {},
   "source": [
    "# Загрузка данных из внешних источников\n",
    "---\n",
    "## Загрузка данных из CSV файла"
   ]
  },
  {
   "cell_type": "code",
   "execution_count": null,
   "metadata": {
    "scrolled": true
   },
   "outputs": [],
   "source": [
    "staff_dict = pd.read_csv('D:/Google Диск/Отчётность/Netpeak/Выступления/ProductStar/Основы Python. Работа с библиотекой Pandas/staff_dict.csv', \n",
    "                        sep=';')\n",
    "\n",
    "staff_dict"
   ]
  },
  {
   "cell_type": "markdown",
   "metadata": {},
   "source": [
    "## Загрузка данных из Excel"
   ]
  },
  {
   "cell_type": "code",
   "execution_count": null,
   "metadata": {},
   "outputs": [],
   "source": [
    "## Загрузка данных из  Excel файла\n",
    "staff_dict_excel = pd.read_excel('D:/Google Диск/Отчётность/Netpeak/Выступления/ProductStar/Основы Python. Работа с библиотекой Pandas/staff_dict.xlsx',\n",
    "                                index_col='id',\n",
    "                                sheet_name='staff_dict')\n",
    "\n",
    "staff_dict_excel"
   ]
  },
  {
   "cell_type": "markdown",
   "metadata": {},
   "source": [
    "## Загрузка данных из базы данных"
   ]
  },
  {
   "cell_type": "code",
   "execution_count": null,
   "metadata": {},
   "outputs": [],
   "source": [
    "# подключение к БД\n",
    "con = sqlite3.connect(\"D:/Google Диск/Отчётность/Netpeak/Выступления/ProductStar/Основы Python. Работа с библиотекой Pandas/database.db\")\n",
    "# формируем запрос \n",
    "query = \"\"\"\n",
    "SELECT id, name, Age, Experience, Salary\n",
    "FROM staff_table;\n",
    "\"\"\"\n",
    "# получить результат выполнения SQL запроса\n",
    "staff_dict_sql = pd.read_sql(query, con, index_col = 'id')\n",
    "\n",
    "staff_dict_sql"
   ]
  },
  {
   "cell_type": "markdown",
   "metadata": {},
   "source": [
    "# Проверка загруженных данных"
   ]
  },
  {
   "cell_type": "code",
   "execution_count": null,
   "metadata": {},
   "outputs": [],
   "source": [
    "# посмотреть 3 первые строки\n",
    "staff_dict.head(3)"
   ]
  },
  {
   "cell_type": "code",
   "execution_count": null,
   "metadata": {},
   "outputs": [],
   "source": [
    "# посмотреть 3 последние строки\n",
    "staff_dict.tail(3)"
   ]
  },
  {
   "cell_type": "code",
   "execution_count": null,
   "metadata": {},
   "outputs": [],
   "source": [
    "# посмотреть структуру таблицы\n",
    "staff_dict.dtypes"
   ]
  },
  {
   "cell_type": "code",
   "execution_count": null,
   "metadata": {},
   "outputs": [],
   "source": [
    "# получить описательные статистики\n",
    "staff_dict.describe()"
   ]
  },
  {
   "cell_type": "code",
   "execution_count": null,
   "metadata": {},
   "outputs": [],
   "source": [
    "# получить описательные статистики по категориальной переменной\n",
    "staff_dict.name.describe()"
   ]
  },
  {
   "cell_type": "markdown",
   "metadata": {},
   "source": [
    "# Основные операции по манипуляции с данными"
   ]
  },
  {
   "cell_type": "code",
   "execution_count": null,
   "metadata": {},
   "outputs": [],
   "source": [
    "# загрузка данных\n",
    "# таблицы продаж\n",
    "sales_1 = pd.read_excel('D:/Google Диск/Отчётность/Netpeak/Выступления/ProductStar/Основы Python. Работа с библиотекой Pandas/sales.xlsx',\n",
    "                        sheet_name='sales_1')\n",
    "\n",
    "sales_2 = pd.read_excel('D:/Google Диск/Отчётность/Netpeak/Выступления/ProductStar/Основы Python. Работа с библиотекой Pandas/sales.xlsx',\n",
    "                        sheet_name='sales_2')\n",
    "\n",
    "# справочник магазинов\n",
    "shops = pd.read_excel('D:/Google Диск/Отчётность/Netpeak/Выступления/ProductStar/Основы Python. Работа с библиотекой Pandas/sales.xlsx',\n",
    "                      sheet_name='shop')\n",
    "# справочник товаров\n",
    "products = pd.read_excel('D:/Google Диск/Отчётность/Netpeak/Выступления/ProductStar/Основы Python. Работа с библиотекой Pandas/sales.xlsx',\n",
    "                          sheet_name='products')\n",
    "# справочник менеджеров по продажам\n",
    "managers = pd.read_excel('D:/Google Диск/Отчётность/Netpeak/Выступления/ProductStar/Основы Python. Работа с библиотекой Pandas/sales.xlsx',\n",
    "                          sheet_name='managers')"
   ]
  },
  {
   "cell_type": "markdown",
   "metadata": {},
   "source": [
    "## Анализ структуры загруженных данных"
   ]
  },
  {
   "cell_type": "code",
   "execution_count": null,
   "metadata": {
    "scrolled": true
   },
   "outputs": [],
   "source": [
    "# таблица продаж\n",
    "sales_1.head(5)"
   ]
  },
  {
   "cell_type": "code",
   "execution_count": null,
   "metadata": {},
   "outputs": [],
   "source": [
    "# посмотреть количество строк и столбцов\n",
    "sales_1.shape"
   ]
  },
  {
   "cell_type": "code",
   "execution_count": null,
   "metadata": {},
   "outputs": [],
   "source": [
    "# типы данных в таблице продаж\n",
    "sales_1.dtypes"
   ]
  },
  {
   "cell_type": "code",
   "execution_count": null,
   "metadata": {},
   "outputs": [],
   "source": [
    "# общие сведения о данных в таблице\n",
    "sales_1.info()"
   ]
  },
  {
   "cell_type": "code",
   "execution_count": null,
   "metadata": {},
   "outputs": [],
   "source": [
    "# справочник магазинов\n",
    "shops"
   ]
  },
  {
   "cell_type": "code",
   "execution_count": null,
   "metadata": {},
   "outputs": [],
   "source": [
    "# справочник товаров\n",
    "products.head()"
   ]
  },
  {
   "cell_type": "code",
   "execution_count": null,
   "metadata": {
    "scrolled": true
   },
   "outputs": [],
   "source": [
    "# справочник менеджеров по продажам\n",
    "managers"
   ]
  },
  {
   "cell_type": "markdown",
   "metadata": {},
   "source": [
    "## Переименование столбцов и вертикальное объединение таблиц"
   ]
  },
  {
   "cell_type": "code",
   "execution_count": null,
   "metadata": {},
   "outputs": [],
   "source": [
    "{'sales_1': sales_1.columns,\n",
    " 'sales_2': sales_2.columns}"
   ]
  },
  {
   "cell_type": "code",
   "execution_count": null,
   "metadata": {},
   "outputs": [],
   "source": [
    "# попытка вертикально объединить таблицы\n",
    "sales = pd.concat([sales_1, sales_2])\n",
    "sales"
   ]
  },
  {
   "cell_type": "code",
   "execution_count": null,
   "metadata": {},
   "outputs": [],
   "source": [
    "# переименовываем столбцы\n",
    "sales_2.rename(columns = {'id': 'sale_id', 'sale_date': 'date', 'Shop': 'shop'}, inplace=True)\n",
    "sales_2"
   ]
  },
  {
   "cell_type": "code",
   "execution_count": null,
   "metadata": {},
   "outputs": [],
   "source": [
    "## Горизонтальное соединение таблиц по ключу\n",
    "sales_total = pd.merge(sales, shops, left_on = 'shop', right_on = 'shop_id', how='inner').\\\n",
    "                 merge(products, left_on = 'product', right_on = 'product_id', how='inner').\\\n",
    "                 merge(managers, left_on = 'manager', right_on = 'manager_id', how='inner')\n",
    "\n",
    "sales_total\n"
   ]
  },
  {
   "cell_type": "markdown",
   "metadata": {},
   "source": [
    "## Добавление вычисляемых столбцов"
   ]
  },
  {
   "cell_type": "code",
   "execution_count": null,
   "metadata": {},
   "outputs": [],
   "source": [
    "# рассчитываем сумму транзакции\n",
    "sales_total['transaction_sum'] = sales_total['price'] * sales_total['count']\n",
    "\n",
    "# расчитываем бонус менеджера\n",
    "sales_total['manager_bonus'] = sales_total['transaction_sum'] * ( sales_total['percent'] / 100 )\n",
    "\n",
    "sales_total"
   ]
  },
  {
   "cell_type": "markdown",
   "metadata": {},
   "source": [
    "## Группировка и агрегация данных"
   ]
  },
  {
   "cell_type": "code",
   "execution_count": null,
   "metadata": {},
   "outputs": [],
   "source": [
    "# рассчитываем сводные данные по менеджерам\n",
    "mangers_stat = sales_total.groupby('manager_name').\\\n",
    "                           agg({'manager_bonus': 'sum',\n",
    "                                'transaction_sum': ['sum', 'mean'],\n",
    "                                'sale_id': pd.Series.nunique}).\\\n",
    "                           reset_index().\\\n",
    "                           sort_values(by=('manager_bonus',  'sum'), ascending=False)\n",
    "\n",
    "# переименовываем столбцы\n",
    "mangers_stat.columns = ['name', 'bonus', 'sale_sum', 'avg_transaction', 'transaction']\n",
    "\n",
    "# округление\n",
    "mangers_stat = mangers_stat.round({'avg_transaction': 2})\n",
    "\n",
    "mangers_stat"
   ]
  },
  {
   "cell_type": "markdown",
   "metadata": {},
   "source": [
    "## Визуализация результатов"
   ]
  },
  {
   "cell_type": "code",
   "execution_count": null,
   "metadata": {},
   "outputs": [],
   "source": [
    "# переносим имя менеджера в индекс\n",
    "mangers_stat.index = mangers_stat.name\n",
    "# строим визуализацию результатов\n",
    "mangers_stat.bonus.plot(kind='barh')\n",
    "\n",
    "# альтернативный вариант, вызвать метод bar()\n",
    "#mangers_stat.bonus.plot.bar()"
   ]
  },
  {
   "cell_type": "code",
   "execution_count": null,
   "metadata": {
    "scrolled": true
   },
   "outputs": [],
   "source": [
    "# линейный график продаж\n",
    "sales_total.groupby('date').agg({'transaction_sum': sum}).plot()"
   ]
  },
  {
   "cell_type": "code",
   "execution_count": null,
   "metadata": {},
   "outputs": [],
   "source": [
    "# расчёт и визуализация нарастающего итога\n",
    "cumsum_sales = sales_total.groupby('date').\\\n",
    "                           agg({'manager_bonus': sum}).\\\n",
    "                           manager_bonus.cumsum().\\\n",
    "                           plot(kind='area')\n"
   ]
  },
  {
   "cell_type": "code",
   "execution_count": null,
   "metadata": {},
   "outputs": [],
   "source": [
    "# скользящее среднее\n",
    "cumsum_sales = sales_total.groupby('date').\\\n",
    "                           agg({'manager_bonus': sum}).\\\n",
    "                           manager_bonus.\\\n",
    "                           rolling(window=20).\\\n",
    "                           mean().\\\n",
    "                           plot()\n"
   ]
  },
  {
   "cell_type": "code",
   "execution_count": null,
   "metadata": {},
   "outputs": [],
   "source": [
    "# сравниваем данные с прошлым днём\n",
    "import datetime # библиотека для работы с временными рядами\n",
    "\n",
    "# суммируем данные по дням\n",
    "daily_sales = sales_total.groupby('date').agg({'transaction_sum': sum})\n",
    "\n",
    "# делаем копию полученного результата, сдвигая продажи на 1 день\n",
    "yesterday_sales = daily_sales.copy().shift(1)\n",
    "\n",
    "# рассчитываем разницу между текущим, и предыдущим днём в процентах\n",
    "daily_sales['step_rate'] = round((daily_sales.transaction_sum - yesterday_sales.transaction_sum) / yesterday_sales.transaction_sum * 100, 2)\n",
    "\n",
    "# строим график с помощью matplotlib\n",
    "plt.bar(x=daily_sales.index, height=daily_sales['step_rate'])\n",
    "# увеличиваем размер графика\n",
    "plt.gcf().set_size_inches(12, 4)"
   ]
  },
  {
   "cell_type": "code",
   "execution_count": null,
   "metadata": {},
   "outputs": [],
   "source": [
    "# сравниваем продажи по странам\n",
    "sales_total.boxplot(column=['manager_bonus'], by=['manager_name'])"
   ]
  },
  {
   "cell_type": "markdown",
   "metadata": {},
   "source": [
    "# Сводные таблицы в pandas"
   ]
  },
  {
   "cell_type": "code",
   "execution_count": null,
   "metadata": {
    "scrolled": true
   },
   "outputs": [],
   "source": [
    "pd.pivot_table(sales_total, \n",
    "               index = 'manager_name', \n",
    "               columns = 'shop_name', \n",
    "               values = 'sale_id', \n",
    "               aggfunc = pd.Series.nunique)"
   ]
  },
  {
   "cell_type": "code",
   "execution_count": null,
   "metadata": {},
   "outputs": [],
   "source": [
    "pd.pivot_table(sales_total, \n",
    "               index = 'product_name', \n",
    "               columns = 'country', \n",
    "               values = 'transaction_sum', \n",
    "               aggfunc = sum,\n",
    "               margins = True)"
   ]
  }
 ],
 "metadata": {
  "kernelspec": {
   "display_name": "Python 3",
   "language": "python",
   "name": "python3"
  },
  "language_info": {
   "codemirror_mode": {
    "name": "ipython",
    "version": 3
   },
   "file_extension": ".py",
   "mimetype": "text/x-python",
   "name": "python",
   "nbconvert_exporter": "python",
   "pygments_lexer": "ipython3",
   "version": "3.8.2"
  }
 },
 "nbformat": 4,
 "nbformat_minor": 4
}
